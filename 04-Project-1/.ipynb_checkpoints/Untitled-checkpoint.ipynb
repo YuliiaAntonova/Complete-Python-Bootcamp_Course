{
 "cells": [
  {
   "cell_type": "code",
   "execution_count": 1,
   "metadata": {},
   "outputs": [],
   "source": [
    "# шаг 1. Написать функцию,которая выводит на экран игровое поле. Поле можно хранить как список, где номера 1-9 соостветсвуют цифрам на цифровой клавитатуре.В итоге получается игровое поле 3*3\n",
    "from IPython.display import clear_output\n",
    "\n",
    "def display_board(board):\n",
    "    clear_output\n",
    "    print(board[7]+'|'+board[8]+'|'+board[9])\n",
    "    print(board[6]+'|'+board[5]+'|'+board[4])\n",
    "    print(board[3]+'|'+board[2]+'|'+board[1])\n",
    "    \n"
   ]
  },
  {
   "cell_type": "code",
   "execution_count": 5,
   "metadata": {},
   "outputs": [
    {
     "name": "stdout",
     "output_type": "stream",
     "text": [
      "X|0|X\n",
      "0|X|0\n",
      "X|0|X\n"
     ]
    }
   ],
   "source": [
    "# проверка шаг 1. Запускаем функцию для тестового списка и вносим исправления при необходимости\n",
    "test_board = ['#','X','0','X','0','X','0','X','0','X']\n",
    "display_board(test_board)\n"
   ]
  },
  {
   "cell_type": "code",
   "execution_count": 6,
   "metadata": {},
   "outputs": [],
   "source": [
    "# шаг 2. Написать функцию, которая спрашивает пользователя, какой символ он хочет использовать, 'X' or 'O'. Можно использовать цикл while, продолжая спрашивать до тех пор,пока пользователь не введет корректный вариант ответа\n",
    "def player_input():\n",
    "    '''\n",
    "    OUTPUT = (Player 1 marker, Player 2 marker)\n",
    "    '''\n",
    "    marker = ''\n",
    "    while not(marker == 'X' or marker == 'O'):\n",
    "        marker = input('Игрок 1 выберите X или O: ').upper()\n",
    "    if marker == 'X':\n",
    "        return('X','O')\n",
    "    else:\n",
    "        return ('O','X')\n",
    "        \n",
    "            "
   ]
  },
  {
   "cell_type": "code",
   "execution_count": 8,
   "metadata": {},
   "outputs": [],
   "source": [
    "# шаг 3. Написать функцию, которая принимает на вход объект игровое поле(список),символ ('X' or 'O'), желаемую позицию (1-9), и помещает этот символ на игровое поле\n",
    "def place_marker(board,marker,position):\n",
    "    board[position] = marker"
   ]
  },
  {
   "cell_type": "code",
   "execution_count": 9,
   "metadata": {},
   "outputs": [
    {
     "data": {
      "text/plain": [
       "['#', 'X', '0', 'X', '0', 'X', '0', 'X', '0', 'X']"
      ]
     },
     "execution_count": 9,
     "metadata": {},
     "output_type": "execute_result"
    }
   ],
   "source": [
    "#Проверка шаг 3. Запустить функцию place_marker, используя тестовые параметры, и отобразить обновленное тестовое поле.\n",
    "test_board"
   ]
  },
  {
   "cell_type": "code",
   "execution_count": 15,
   "metadata": {},
   "outputs": [
    {
     "name": "stdout",
     "output_type": "stream",
     "text": [
      "X|$|X\n",
      "0|X|0\n",
      "X|0|X\n"
     ]
    }
   ],
   "source": [
    "place_marker(test_board,'$',8)\n",
    "display_board(test_board)"
   ]
  },
  {
   "cell_type": "code",
   "execution_count": 16,
   "metadata": {},
   "outputs": [],
   "source": [
    "# Шаг4. Напписать функцию, которая берет игровое поле (символ Х или О), и затем проверяет, выиграл ли этот символ.\n",
    "def win_check(board,mark):\n",
    "    \n",
    "# проверка строк\n",
    "  (board[1] == mark and board[2] == mark and board[3] == mark)\n",
    "  (board[4] == mark and board[5] == mark and board[6] == mark)\n",
    "# проверка колонок\n",
    "  ...\n",
    "# проверка диагоналей\n",
    "  ..."
   ]
  },
  {
   "cell_type": "code",
   "execution_count": 18,
   "metadata": {},
   "outputs": [],
   "source": [
    "# Шаг 5. Написать функцию, которая использует модуль random, чтобы случайным образом решить, какой из игроков ходит первым. Можно, например, использовать random.randint(). Возвращаем строку с информацией  том, кто из игроков ходит первым.\n",
    "import random\n",
    "def choose_first():\n",
    "    flip = random.randint(0,1)\n",
    "    if flip == 'O':\n",
    "        return ('Игрок 1')\n",
    "    if flip == 'X':\n",
    "        return ('Игрок 2')"
   ]
  },
  {
   "cell_type": "code",
   "execution_count": 19,
   "metadata": {},
   "outputs": [],
   "source": [
    "# Шаг 6. Написать функцию, которая возвращает значение boolean в зависимости от того, является ли указанное место на игровом поле пустым или нет\n",
    "def space_check(board, position):\n",
    "    return board[position] == ' '"
   ]
  },
  {
   "cell_type": "code",
   "execution_count": 20,
   "metadata": {},
   "outputs": [],
   "source": [
    "# Шаг 7. Написать функцию, которая проверяет, яляется ли игровое поле полностью заполненным и возвращает значение boolean True, если полностью заполнено, иначе False\n",
    "def full_board_check(board):\n",
    "    for i in range(1,10):\n",
    "        if space_check(board,i):\n",
    "            return False\n",
    "    return True"
   ]
  },
  {
   "cell_type": "code",
   "execution_count": 24,
   "metadata": {},
   "outputs": [],
   "source": [
    "# Шаг 8. Напишите функцию, которая запрашивает у игрока следующую позицию (как число 1-9), и затем использует функцию с шага 6, чтобы проверить, является ли эта позиция пустой, если да, то возвращает эту позицию для дальнейшего использования. \n",
    "def player_choose(board):\n",
    "    position = 0\n",
    "    while position not in [1,2,3,4,5,6,7,8,9] or not space_check[board,position]:\n",
    "         position = int(input('Укажите поле: (1-9)'))\n",
    "    return position"
   ]
  },
  {
   "cell_type": "code",
   "execution_count": 25,
   "metadata": {},
   "outputs": [],
   "source": [
    "# Шаг 9. Напишите функцию, которая спрашивает игрока, хочет ли он играть снова и возвращает True, если игрок говорит Yes\n",
    "def replay():\n",
    "    choice = input(\"Хотите играть снова? Введите Yes или No\")\n",
    "    return choose == 'Yes'"
   ]
  },
  {
   "cell_type": "code",
   "execution_count": null,
   "metadata": {},
   "outputs": [],
   "source": []
  }
 ],
 "metadata": {
  "kernelspec": {
   "display_name": "Python 3",
   "language": "python",
   "name": "python3"
  },
  "language_info": {
   "codemirror_mode": {
    "name": "ipython",
    "version": 3
   },
   "file_extension": ".py",
   "mimetype": "text/x-python",
   "name": "python",
   "nbconvert_exporter": "python",
   "pygments_lexer": "ipython3",
   "version": "3.8.3"
  }
 },
 "nbformat": 4,
 "nbformat_minor": 4
}
