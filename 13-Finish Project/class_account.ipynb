{
 "cells": [
  {
   "cell_type": "code",
   "execution_count": 29,
   "metadata": {},
   "outputs": [],
   "source": [
    "class Account: \n",
    "\tdef __init__(self,customer,balance):\n",
    "\t\tself.customer=customer\n",
    "\t\tself.balance=balance\n",
    "\t\tif isinstance(self,SavingAccount):\n",
    "\t\t\tannualRate=float(input(\"Какая процентная ставка: \"))\n",
    "\t\t\tself.annualRate=annualRate\t\t        \n",
    "\t\t\n",
    "\tdef __str__(self):\n",
    "\t\treturn \"Account customer: {} \\nAccount Balance: ${} \".format(self.customer,self.balance)\n",
    "\tdef deposit(self,dep_amt):\n",
    "\t\tself.balance +=dep_amt\n",
    "\t\tprint(self.balance)\n",
    "\tdef withdraw(self,wd_amt):\n",
    "\t\tif self.balance>wd_amt:\n",
    "\t\t\tself.balance -=wd_amt\n",
    "\t\t\tprint(self.balance)\n",
    "\t\telse:\n",
    "\t\t\tprint('Funds Uvalialable')\n",
    "\n",
    "\n"
   ]
  },
  {
   "cell_type": "code",
   "execution_count": 30,
   "metadata": {},
   "outputs": [],
   "source": [
    "class CheckingAccount(Account):\n",
    "\tdef __init__(self,customer,balance):\n",
    "\t\tAccount.__init__(self,customer,balance)\n",
    "\n",
    "\n"
   ]
  },
  {
   "cell_type": "code",
   "execution_count": 31,
   "metadata": {},
   "outputs": [],
   "source": [
    "class SavingAccount(Account):\n",
    "\tdef getMonthlyRate(self):\n",
    "\t\treturn self.annualRate/12\n",
    "\n"
   ]
  },
  {
   "cell_type": "code",
   "execution_count": 32,
   "metadata": {},
   "outputs": [],
   "source": [
    "class BusinessAccount(Account):\n",
    "\tdef __init__(self,customer,balance):\n",
    "\t\tAccount.__init__(self,customer,balance)\n"
   ]
  },
  {
   "cell_type": "code",
   "execution_count": 33,
   "metadata": {},
   "outputs": [],
   "source": [
    "c=CheckingAccount('Jose',balance=100)"
   ]
  },
  {
   "cell_type": "code",
   "execution_count": 34,
   "metadata": {},
   "outputs": [
    {
     "name": "stdout",
     "output_type": "stream",
     "text": [
      "Account customer: Jose \n",
      "Account Balance: $100 \n"
     ]
    }
   ],
   "source": [
    "print(c)"
   ]
  },
  {
   "cell_type": "code",
   "execution_count": 35,
   "metadata": {},
   "outputs": [
    {
     "name": "stdout",
     "output_type": "stream",
     "text": [
      "Какая процентная ставка: 3.4\n"
     ]
    }
   ],
   "source": [
    "s=SavingAccount('Jose',balance=200)\n",
    "\n",
    "\n",
    "\n"
   ]
  },
  {
   "cell_type": "code",
   "execution_count": 36,
   "metadata": {},
   "outputs": [
    {
     "name": "stdout",
     "output_type": "stream",
     "text": [
      "Account customer: Jose \n",
      "Account Balance: $200 \n"
     ]
    }
   ],
   "source": [
    "print(s)"
   ]
  },
  {
   "cell_type": "code",
   "execution_count": 37,
   "metadata": {},
   "outputs": [
    {
     "data": {
      "text/plain": [
       "200"
      ]
     },
     "execution_count": 37,
     "metadata": {},
     "output_type": "execute_result"
    }
   ],
   "source": [
    "s.balance\n"
   ]
  },
  {
   "cell_type": "code",
   "execution_count": 38,
   "metadata": {},
   "outputs": [
    {
     "name": "stdout",
     "output_type": "stream",
     "text": [
      "220\n"
     ]
    }
   ],
   "source": [
    "s.deposit(20)"
   ]
  },
  {
   "cell_type": "code",
   "execution_count": 39,
   "metadata": {},
   "outputs": [
    {
     "name": "stdout",
     "output_type": "stream",
     "text": [
      "190\n"
     ]
    }
   ],
   "source": [
    "s.withdraw(30)"
   ]
  },
  {
   "cell_type": "code",
   "execution_count": 40,
   "metadata": {},
   "outputs": [],
   "source": [
    "b=BusinessAccount('Jose',balance=200)"
   ]
  },
  {
   "cell_type": "code",
   "execution_count": 41,
   "metadata": {},
   "outputs": [
    {
     "name": "stdout",
     "output_type": "stream",
     "text": [
      "Account customer: Jose \n",
      "Account Balance: $200 \n"
     ]
    }
   ],
   "source": [
    "print(b)"
   ]
  },
  {
   "cell_type": "code",
   "execution_count": 42,
   "metadata": {},
   "outputs": [
    {
     "data": {
      "text/plain": [
       "0.2833333333333333"
      ]
     },
     "execution_count": 42,
     "metadata": {},
     "output_type": "execute_result"
    }
   ],
   "source": [
    "s.getMonthlyRate()\n"
   ]
  },
  {
   "cell_type": "code",
   "execution_count": 43,
   "metadata": {},
   "outputs": [
    {
     "name": "stdout",
     "output_type": "stream",
     "text": [
      "Account customer: Jose \n",
      "Account Balance: $190 \n"
     ]
    }
   ],
   "source": [
    "print(s)"
   ]
  },
  {
   "cell_type": "code",
   "execution_count": null,
   "metadata": {},
   "outputs": [],
   "source": []
  },
  {
   "cell_type": "code",
   "execution_count": null,
   "metadata": {},
   "outputs": [],
   "source": []
  },
  {
   "cell_type": "code",
   "execution_count": null,
   "metadata": {},
   "outputs": [],
   "source": []
  },
  {
   "cell_type": "code",
   "execution_count": 44,
   "metadata": {},
   "outputs": [],
   "source": [
    "#Multithreading"
   ]
  },
  {
   "cell_type": "code",
   "execution_count": 45,
   "metadata": {},
   "outputs": [],
   "source": [
    "from threading import Thread\n",
    "class Account(Thread):\n",
    "    def __init__(self, customer, balance, *args, **kwargs):\n",
    "        super(Account, self).__init__(*args, **kwargs)\n",
    "        self.customer=customer\n",
    "        self.balance = balance\n",
    "    def run(self):\n",
    "        def withdraw(self, child_wd):\n",
    "            if self.balance > child_wd:\n",
    "                self.balance -= child_wd\n",
    "                print(self.balance)\n",
    "            else:\n",
    "                print('Funds Uvalialable')"
   ]
  },
  {
   "cell_type": "code",
   "execution_count": 46,
   "metadata": {},
   "outputs": [
    {
     "name": "stdout",
     "output_type": "stream",
     "text": [
      "To view balance\n",
      "Withdrawal pending\n",
      "To view the balance of funds \n",
      "Customer Jose withdrew funds:\n",
      "Customer Ann withdrew funds:\n"
     ]
    }
   ],
   "source": [
    "i_am=Account(customer='Jose',balance=100)\n",
    "my_child=Account(customer='Ann',balance=50)\n",
    "print('To view balance')\n",
    "i_am.start()\n",
    "my_child.start()\n",
    "print('Withdrawal pending')\n",
    "i_am.join()\n",
    "my_child.join()\n",
    "print('To view the balance of funds ')\n",
    "\n",
    "for account in (i_am,my_child):\n",
    "    print(f'Customer {account.customer} withdrew funds:')"
   ]
  },
  {
   "cell_type": "code",
   "execution_count": null,
   "metadata": {},
   "outputs": [],
   "source": []
  }
 ],
 "metadata": {
  "kernelspec": {
   "display_name": "Python 3",
   "language": "python",
   "name": "python3"
  },
  "language_info": {
   "codemirror_mode": {
    "name": "ipython",
    "version": 3
   },
   "file_extension": ".py",
   "mimetype": "text/x-python",
   "name": "python",
   "nbconvert_exporter": "python",
   "pygments_lexer": "ipython3",
   "version": "3.8.3"
  }
 },
 "nbformat": 4,
 "nbformat_minor": 4
}
